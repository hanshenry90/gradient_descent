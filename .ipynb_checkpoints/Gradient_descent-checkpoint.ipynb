{
 "cells": [
  {
   "cell_type": "code",
   "execution_count": 1,
   "metadata": {
    "collapsed": true
   },
   "outputs": [],
   "source": [
    "import numpy as np\n",
    "\n",
    "def gradient_decent(point, step_size, threshold):\n",
    "    f = lambda x: x**2\n",
    "    value = f(point)\n",
    "    new_point = point - step_size * np.gradient(value)\n",
    "    new_value = f(new_point)\n",
    "    if abs(new_value - value).any() > threshold:\n",
    "        return value\n",
    "    return gradient_decent(new_point, step_size, threshold)"
   ]
  },
  {
   "cell_type": "code",
   "execution_count": 2,
   "metadata": {
    "collapsed": false
   },
   "outputs": [
    {
     "ename": "NameError",
     "evalue": "name 'point' is not defined",
     "output_type": "error",
     "traceback": [
      "\u001b[0;31m---------------------------------------------------------------------------\u001b[0m",
      "\u001b[0;31mNameError\u001b[0m                                 Traceback (most recent call last)",
      "\u001b[0;32m<ipython-input-2-2eb665a3754a>\u001b[0m in \u001b[0;36m<module>\u001b[0;34m()\u001b[0m\n\u001b[0;32m----> 1\u001b[0;31m \u001b[0;32mprint\u001b[0m \u001b[0mnp\u001b[0m\u001b[0;34m.\u001b[0m\u001b[0mgradient\u001b[0m\u001b[0;34m(\u001b[0m\u001b[0mpoint\u001b[0m\u001b[0;34m)\u001b[0m\u001b[0;34m\u001b[0m\u001b[0m\n\u001b[0m",
      "\u001b[0;31mNameError\u001b[0m: name 'point' is not defined"
     ]
    }
   ],
   "source": [
    "print np.gradient(point)\n"
   ]
  },
  {
   "cell_type": "code",
   "execution_count": 3,
   "metadata": {
    "collapsed": false
   },
   "outputs": [
    {
     "ename": "NameError",
     "evalue": "name 'point' is not defined",
     "output_type": "error",
     "traceback": [
      "\u001b[0;31m---------------------------------------------------------------------------\u001b[0m",
      "\u001b[0;31mNameError\u001b[0m                                 Traceback (most recent call last)",
      "\u001b[0;32m<ipython-input-3-8bd56f15feb3>\u001b[0m in \u001b[0;36m<module>\u001b[0;34m()\u001b[0m\n\u001b[0;32m----> 1\u001b[0;31m \u001b[0mx\u001b[0m \u001b[0;34m=\u001b[0m \u001b[0mgradient_decent\u001b[0m\u001b[0;34m(\u001b[0m\u001b[0mpoint\u001b[0m\u001b[0;34m,\u001b[0m \u001b[0;36m4\u001b[0m\u001b[0;34m,\u001b[0m \u001b[0;36m9\u001b[0m\u001b[0;34m)\u001b[0m\u001b[0;34m\u001b[0m\u001b[0m\n\u001b[0m\u001b[1;32m      2\u001b[0m \u001b[0;31m# value\u001b[0m\u001b[0;34m\u001b[0m\u001b[0;34m\u001b[0m\u001b[0m\n",
      "\u001b[0;31mNameError\u001b[0m: name 'point' is not defined"
     ]
    }
   ],
   "source": [
    "x = gradient_decent(point, 4, 9)\n",
    "# value"
   ]
  },
  {
   "cell_type": "code",
   "execution_count": 4,
   "metadata": {
    "collapsed": false
   },
   "outputs": [
    {
     "ename": "NameError",
     "evalue": "name 'x' is not defined",
     "output_type": "error",
     "traceback": [
      "\u001b[0;31m---------------------------------------------------------------------------\u001b[0m",
      "\u001b[0;31mNameError\u001b[0m                                 Traceback (most recent call last)",
      "\u001b[0;32m<ipython-input-4-401b30e3b8b5>\u001b[0m in \u001b[0;36m<module>\u001b[0;34m()\u001b[0m\n\u001b[0;32m----> 1\u001b[0;31m \u001b[0mx\u001b[0m\u001b[0;34m\u001b[0m\u001b[0m\n\u001b[0m",
      "\u001b[0;31mNameError\u001b[0m: name 'x' is not defined"
     ]
    }
   ],
   "source": [
    "x"
   ]
  },
  {
   "cell_type": "code",
   "execution_count": 5,
   "metadata": {
    "collapsed": false
   },
   "outputs": [
    {
     "ename": "NameError",
     "evalue": "name 'value' is not defined",
     "output_type": "error",
     "traceback": [
      "\u001b[0;31m---------------------------------------------------------------------------\u001b[0m",
      "\u001b[0;31mNameError\u001b[0m                                 Traceback (most recent call last)",
      "\u001b[0;32m<ipython-input-5-756c412732c9>\u001b[0m in \u001b[0;36m<module>\u001b[0;34m()\u001b[0m\n\u001b[0;32m----> 1\u001b[0;31m \u001b[0mvalue\u001b[0m\u001b[0;34m\u001b[0m\u001b[0m\n\u001b[0m",
      "\u001b[0;31mNameError\u001b[0m: name 'value' is not defined"
     ]
    }
   ],
   "source": [
    "value"
   ]
  },
  {
   "cell_type": "code",
   "execution_count": 32,
   "metadata": {
    "collapsed": false
   },
   "outputs": [],
   "source": [
    "point = np.array(range(0,100), dtype=np.int)\n",
    "# point = range(0,100)\n",
    "f = lambda x: x**2\n",
    "value_1 = f(point)"
   ]
  },
  {
   "cell_type": "code",
   "execution_count": 33,
   "metadata": {
    "collapsed": true
   },
   "outputs": [],
   "source": [
    "import matplotlib.pyplot as plt\n",
    "%matplotlib inline"
   ]
  },
  {
   "cell_type": "code",
   "execution_count": 34,
   "metadata": {
    "collapsed": false
   },
   "outputs": [
    {
     "data": {
      "text/plain": [
       "[<matplotlib.lines.Line2D at 0x10c3fc550>]"
      ]
     },
     "execution_count": 34,
     "metadata": {},
     "output_type": "execute_result"
    },
    {
     "data": {
      "image/png": "[encoded data removed]",
      "text/plain": [
       "<matplotlib.figure.Figure at 0x10a51b650>"
      ]
     },
     "metadata": {},
     "output_type": "display_data"
    }
   ],
   "source": [
    "plt.plot(point, value)"
   ]
  },
  {
   "cell_type": "code",
   "execution_count": 68,
   "metadata": {
    "collapsed": false
   },
   "outputs": [],
   "source": [
    "f = lambda x: x**2\n",
    "value_2 = f(point)\n",
    "new_point = point - 1 * np.gradient(value)\n",
    "new_value = f(new_point)\n",
    "if abs(new_value - value_2).any() <= 0:\n",
    "    print value_2\n"
   ]
  },
  {
   "cell_type": "code",
   "execution_count": 64,
   "metadata": {
    "collapsed": false
   },
   "outputs": [
    {
     "name": "stdout",
     "output_type": "stream",
     "text": [
      "[   0    1    4    9   16   25   36   49   64   81  100  121  144  169  196\n",
      "  225  256  289  324  361  400  441  484  529  576  625  676  729  784  841\n",
      "  900  961 1024 1089 1156 1225 1296 1369 1444 1521 1600 1681 1764 1849 1936\n",
      " 2025 2116 2209 2304 2401 2500 2601 2704 2809 2916 3025 3136 3249 3364 3481\n",
      " 3600 3721 3844 3969 4096 4225 4356 4489 4624 4761 4900 5041 5184 5329 5476\n",
      " 5625 5776 5929 6084 6241 6400 6561 6724 6889 7056 7225 7396 7569 7744 7921\n",
      " 8100 8281 8464 8649 8836 9025 9216 9409 9604 9801]\n"
     ]
    },
    {
     "data": {
      "text/plain": [
       "(100,)"
      ]
     },
     "execution_count": 64,
     "metadata": {},
     "output_type": "execute_result"
    }
   ],
   "source": [
    "print value\n",
    "value.shape"
   ]
  },
  {
   "cell_type": "code",
   "execution_count": 65,
   "metadata": {
    "collapsed": false
   },
   "outputs": [
    {
     "name": "stdout",
     "output_type": "stream",
     "text": [
      "[   0    1    4    9   16   25   36   49   64   81  100  121  144  169  196\n",
      "  225  256  289  324  361  400  441  484  529  576  625  676  729  784  841\n",
      "  900  961 1024 1089 1156 1225 1296 1369 1444 1521 1600 1681 1764 1849 1936\n",
      " 2025 2116 2209 2304 2401 2500 2601 2704 2809 2916 3025 3136 3249 3364 3481\n",
      " 3600 3721 3844 3969 4096 4225 4356 4489 4624 4761 4900 5041 5184 5329 5476\n",
      " 5625 5776 5929 6084 6241 6400 6561 6724 6889 7056 7225 7396 7569 7744 7921\n",
      " 8100 8281 8464 8649 8836 9025 9216 9409 9604 9801]\n"
     ]
    }
   ],
   "source": [
    "print value_2"
   ]
  },
  {
   "cell_type": "code",
   "execution_count": 66,
   "metadata": {
    "collapsed": false
   },
   "outputs": [
    {
     "name": "stdout",
     "output_type": "stream",
     "text": [
      "[ 0  1  2  3  4  5  6  7  8  9 10 11 12 13 14 15 16 17 18 19 20 21 22 23 24\n",
      " 25 26 27 28 29 30 31 32 33 34 35 36 37 38 39 40 41 42 43 44 45 46 47 48 49\n",
      " 50 51 52 53 54 55 56 57 58 59 60 61 62 63 64 65 66 67 68 69 70 71 72 73 74\n",
      " 75 76 77 78 79 80 81 82 83 84 85 86 87 88 89 90 91 92 93 94 95 96 97 98 99]\n"
     ]
    }
   ],
   "source": [
    "print point"
   ]
  },
  {
   "cell_type": "code",
   "execution_count": 67,
   "metadata": {
    "collapsed": false
   },
   "outputs": [
    {
     "name": "stdout",
     "output_type": "stream",
     "text": [
      "[ -1.  -1.  -2.  -3.  -4.  -5.  -6.  -7.  -8.  -9. -10. -11. -12. -13. -14.\n",
      " -15. -16. -17. -18. -19. -20. -21. -22. -23. -24. -25. -26. -27. -28. -29.\n",
      " -30. -31. -32. -33. -34. -35. -36. -37. -38. -39. -40. -41. -42. -43. -44.\n",
      " -45. -46. -47. -48. -49. -50. -51. -52. -53. -54. -55. -56. -57. -58. -59.\n",
      " -60. -61. -62. -63. -64. -65. -66. -67. -68. -69. -70. -71. -72. -73. -74.\n",
      " -75. -76. -77. -78. -79. -80. -81. -82. -83. -84. -85. -86. -87. -88. -89.\n",
      " -90. -91. -92. -93. -94. -95. -96. -97. -98. -98.]\n"
     ]
    },
    {
     "data": {
      "text/plain": [
       "(100,)"
      ]
     },
     "execution_count": 67,
     "metadata": {},
     "output_type": "execute_result"
    }
   ],
   "source": [
    "print new_point\n",
    "new_point.shape"
   ]
  },
  {
   "cell_type": "code",
   "execution_count": 69,
   "metadata": {
    "collapsed": false
   },
   "outputs": [
    {
     "name": "stdout",
     "output_type": "stream",
     "text": [
      "[  1.00000000e+00   1.00000000e+00   4.00000000e+00   9.00000000e+00\n",
      "   1.60000000e+01   2.50000000e+01   3.60000000e+01   4.90000000e+01\n",
      "   6.40000000e+01   8.10000000e+01   1.00000000e+02   1.21000000e+02\n",
      "   1.44000000e+02   1.69000000e+02   1.96000000e+02   2.25000000e+02\n",
      "   2.56000000e+02   2.89000000e+02   3.24000000e+02   3.61000000e+02\n",
      "   4.00000000e+02   4.41000000e+02   4.84000000e+02   5.29000000e+02\n",
      "   5.76000000e+02   6.25000000e+02   6.76000000e+02   7.29000000e+02\n",
      "   7.84000000e+02   8.41000000e+02   9.00000000e+02   9.61000000e+02\n",
      "   1.02400000e+03   1.08900000e+03   1.15600000e+03   1.22500000e+03\n",
      "   1.29600000e+03   1.36900000e+03   1.44400000e+03   1.52100000e+03\n",
      "   1.60000000e+03   1.68100000e+03   1.76400000e+03   1.84900000e+03\n",
      "   1.93600000e+03   2.02500000e+03   2.11600000e+03   2.20900000e+03\n",
      "   2.30400000e+03   2.40100000e+03   2.50000000e+03   2.60100000e+03\n",
      "   2.70400000e+03   2.80900000e+03   2.91600000e+03   3.02500000e+03\n",
      "   3.13600000e+03   3.24900000e+03   3.36400000e+03   3.48100000e+03\n",
      "   3.60000000e+03   3.72100000e+03   3.84400000e+03   3.96900000e+03\n",
      "   4.09600000e+03   4.22500000e+03   4.35600000e+03   4.48900000e+03\n",
      "   4.62400000e+03   4.76100000e+03   4.90000000e+03   5.04100000e+03\n",
      "   5.18400000e+03   5.32900000e+03   5.47600000e+03   5.62500000e+03\n",
      "   5.77600000e+03   5.92900000e+03   6.08400000e+03   6.24100000e+03\n",
      "   6.40000000e+03   6.56100000e+03   6.72400000e+03   6.88900000e+03\n",
      "   7.05600000e+03   7.22500000e+03   7.39600000e+03   7.56900000e+03\n",
      "   7.74400000e+03   7.92100000e+03   8.10000000e+03   8.28100000e+03\n",
      "   8.46400000e+03   8.64900000e+03   8.83600000e+03   9.02500000e+03\n",
      "   9.21600000e+03   9.40900000e+03   9.60400000e+03   9.60400000e+03]\n"
     ]
    },
    {
     "data": {
      "text/plain": [
       "(100,)"
      ]
     },
     "execution_count": 69,
     "metadata": {},
     "output_type": "execute_result"
    }
   ],
   "source": [
    "print new_value\n",
    "new_value.shape"
   ]
  },
  {
   "cell_type": "code",
   "execution_count": 70,
   "metadata": {
    "collapsed": false
   },
   "outputs": [
    {
     "data": {
      "text/plain": [
       "[<matplotlib.lines.Line2D at 0x10c718190>]"
      ]
     },
     "execution_count": 70,
     "metadata": {},
     "output_type": "execute_result"
    },
    {
     "data": {
      "image/png": "[encoded data removed]",
      "text/plain": [
       "<matplotlib.figure.Figure at 0x10c568690>"
      ]
     },
     "metadata": {},
     "output_type": "display_data"
    }
   ],
   "source": [
    "plt.plot(point, new_value)"
   ]
  },
  {
   "cell_type": "code",
   "execution_count": 71,
   "metadata": {
    "collapsed": false
   },
   "outputs": [
    {
     "data": {
      "text/plain": [
       "array([   1.,    2.,    4.,    6.,    8.,   10.,   12.,   14.,   16.,\n",
       "         18.,   20.,   22.,   24.,   26.,   28.,   30.,   32.,   34.,\n",
       "         36.,   38.,   40.,   42.,   44.,   46.,   48.,   50.,   52.,\n",
       "         54.,   56.,   58.,   60.,   62.,   64.,   66.,   68.,   70.,\n",
       "         72.,   74.,   76.,   78.,   80.,   82.,   84.,   86.,   88.,\n",
       "         90.,   92.,   94.,   96.,   98.,  100.,  102.,  104.,  106.,\n",
       "        108.,  110.,  112.,  114.,  116.,  118.,  120.,  122.,  124.,\n",
       "        126.,  128.,  130.,  132.,  134.,  136.,  138.,  140.,  142.,\n",
       "        144.,  146.,  148.,  150.,  152.,  154.,  156.,  158.,  160.,\n",
       "        162.,  164.,  166.,  168.,  170.,  172.,  174.,  176.,  178.,\n",
       "        180.,  182.,  184.,  186.,  188.,  190.,  192.,  194.,  196.,  197.])"
      ]
     },
     "execution_count": 71,
     "metadata": {},
     "output_type": "execute_result"
    }
   ],
   "source": [
    "np.gradient(value)"
   ]
  },
  {
   "cell_type": "code",
   "execution_count": 72,
   "metadata": {
    "collapsed": true
   },
   "outputs": [],
   "source": [
    "value_2 = f(new_point)\n",
    "new_point = point - 1 * np.gradient(new_value)\n",
    "new_value = f(new_point)\n",
    "if abs(new_value - value_2).any() <= 0:\n",
    "    print value_2\n"
   ]
  },
  {
   "cell_type": "code",
   "execution_count": 73,
   "metadata": {
    "collapsed": false
   },
   "outputs": [
    {
     "name": "stdout",
     "output_type": "stream",
     "text": [
      "[  0.   -0.5  -2.   -3.   -4.   -5.   -6.   -7.   -8.   -9.  -10.  -11.\n",
      " -12.  -13.  -14.  -15.  -16.  -17.  -18.  -19.  -20.  -21.  -22.  -23.\n",
      " -24.  -25.  -26.  -27.  -28.  -29.  -30.  -31.  -32.  -33.  -34.  -35.\n",
      " -36.  -37.  -38.  -39.  -40.  -41.  -42.  -43.  -44.  -45.  -46.  -47.\n",
      " -48.  -49.  -50.  -51.  -52.  -53.  -54.  -55.  -56.  -57.  -58.  -59.\n",
      " -60.  -61.  -62.  -63.  -64.  -65.  -66.  -67.  -68.  -69.  -70.  -71.\n",
      " -72.  -73.  -74.  -75.  -76.  -77.  -78.  -79.  -80.  -81.  -82.  -83.\n",
      " -84.  -85.  -86.  -87.  -88.  -89.  -90.  -91.  -92.  -93.  -94.  -95.\n",
      " -96.  -97.    0.5  99. ]\n"
     ]
    }
   ],
   "source": [
    "print new_point"
   ]
  },
  {
   "cell_type": "code",
   "execution_count": 74,
   "metadata": {
    "collapsed": false
   },
   "outputs": [
    {
     "name": "stdout",
     "output_type": "stream",
     "text": [
      "[  0.00000000e+00   2.50000000e-01   4.00000000e+00   9.00000000e+00\n",
      "   1.60000000e+01   2.50000000e+01   3.60000000e+01   4.90000000e+01\n",
      "   6.40000000e+01   8.10000000e+01   1.00000000e+02   1.21000000e+02\n",
      "   1.44000000e+02   1.69000000e+02   1.96000000e+02   2.25000000e+02\n",
      "   2.56000000e+02   2.89000000e+02   3.24000000e+02   3.61000000e+02\n",
      "   4.00000000e+02   4.41000000e+02   4.84000000e+02   5.29000000e+02\n",
      "   5.76000000e+02   6.25000000e+02   6.76000000e+02   7.29000000e+02\n",
      "   7.84000000e+02   8.41000000e+02   9.00000000e+02   9.61000000e+02\n",
      "   1.02400000e+03   1.08900000e+03   1.15600000e+03   1.22500000e+03\n",
      "   1.29600000e+03   1.36900000e+03   1.44400000e+03   1.52100000e+03\n",
      "   1.60000000e+03   1.68100000e+03   1.76400000e+03   1.84900000e+03\n",
      "   1.93600000e+03   2.02500000e+03   2.11600000e+03   2.20900000e+03\n",
      "   2.30400000e+03   2.40100000e+03   2.50000000e+03   2.60100000e+03\n",
      "   2.70400000e+03   2.80900000e+03   2.91600000e+03   3.02500000e+03\n",
      "   3.13600000e+03   3.24900000e+03   3.36400000e+03   3.48100000e+03\n",
      "   3.60000000e+03   3.72100000e+03   3.84400000e+03   3.96900000e+03\n",
      "   4.09600000e+03   4.22500000e+03   4.35600000e+03   4.48900000e+03\n",
      "   4.62400000e+03   4.76100000e+03   4.90000000e+03   5.04100000e+03\n",
      "   5.18400000e+03   5.32900000e+03   5.47600000e+03   5.62500000e+03\n",
      "   5.77600000e+03   5.92900000e+03   6.08400000e+03   6.24100000e+03\n",
      "   6.40000000e+03   6.56100000e+03   6.72400000e+03   6.88900000e+03\n",
      "   7.05600000e+03   7.22500000e+03   7.39600000e+03   7.56900000e+03\n",
      "   7.74400000e+03   7.92100000e+03   8.10000000e+03   8.28100000e+03\n",
      "   8.46400000e+03   8.64900000e+03   8.83600000e+03   9.02500000e+03\n",
      "   9.21600000e+03   9.40900000e+03   2.50000000e-01   9.80100000e+03]\n"
     ]
    }
   ],
   "source": [
    "print new_value"
   ]
  },
  {
   "cell_type": "code",
   "execution_count": 76,
   "metadata": {
    "collapsed": false
   },
   "outputs": [
    {
     "data": {
      "text/plain": [
       "[<matplotlib.lines.Line2D at 0x10c975b90>]"
      ]
     },
     "execution_count": 76,
     "metadata": {},
     "output_type": "execute_result"
    },
    {
     "data": {
      "image/png": "[encoded data removed]",
      "text/plain": [
       "<matplotlib.figure.Figure at 0x10c9daa10>"
      ]
     },
     "metadata": {},
     "output_type": "display_data"
    }
   ],
   "source": [
    "plt.plot(new_point, new_value)"
   ]
  },
  {
   "cell_type": "code",
   "execution_count": 77,
   "metadata": {
    "collapsed": true
   },
   "outputs": [],
   "source": [
    "value_2 = f(new_point)\n",
    "new_point = point - 1 * np.gradient(new_value)\n",
    "new_value = f(new_point)\n",
    "if abs(new_value - value_2).any() <= 0:\n",
    "    print value_2"
   ]
  },
  {
   "cell_type": "code",
   "execution_count": 78,
   "metadata": {
    "collapsed": false
   },
   "outputs": [
    {
     "name": "stdout",
     "output_type": "stream",
     "text": [
      "[ -2.50000000e-01  -1.00000000e+00  -2.37500000e+00  -3.00000000e+00\n",
      "  -4.00000000e+00  -5.00000000e+00  -6.00000000e+00  -7.00000000e+00\n",
      "  -8.00000000e+00  -9.00000000e+00  -1.00000000e+01  -1.10000000e+01\n",
      "  -1.20000000e+01  -1.30000000e+01  -1.40000000e+01  -1.50000000e+01\n",
      "  -1.60000000e+01  -1.70000000e+01  -1.80000000e+01  -1.90000000e+01\n",
      "  -2.00000000e+01  -2.10000000e+01  -2.20000000e+01  -2.30000000e+01\n",
      "  -2.40000000e+01  -2.50000000e+01  -2.60000000e+01  -2.70000000e+01\n",
      "  -2.80000000e+01  -2.90000000e+01  -3.00000000e+01  -3.10000000e+01\n",
      "  -3.20000000e+01  -3.30000000e+01  -3.40000000e+01  -3.50000000e+01\n",
      "  -3.60000000e+01  -3.70000000e+01  -3.80000000e+01  -3.90000000e+01\n",
      "  -4.00000000e+01  -4.10000000e+01  -4.20000000e+01  -4.30000000e+01\n",
      "  -4.40000000e+01  -4.50000000e+01  -4.60000000e+01  -4.70000000e+01\n",
      "  -4.80000000e+01  -4.90000000e+01  -5.00000000e+01  -5.10000000e+01\n",
      "  -5.20000000e+01  -5.30000000e+01  -5.40000000e+01  -5.50000000e+01\n",
      "  -5.60000000e+01  -5.70000000e+01  -5.80000000e+01  -5.90000000e+01\n",
      "  -6.00000000e+01  -6.10000000e+01  -6.20000000e+01  -6.30000000e+01\n",
      "  -6.40000000e+01  -6.50000000e+01  -6.60000000e+01  -6.70000000e+01\n",
      "  -6.80000000e+01  -6.90000000e+01  -7.00000000e+01  -7.10000000e+01\n",
      "  -7.20000000e+01  -7.30000000e+01  -7.40000000e+01  -7.50000000e+01\n",
      "  -7.60000000e+01  -7.70000000e+01  -7.80000000e+01  -7.90000000e+01\n",
      "  -8.00000000e+01  -8.10000000e+01  -8.20000000e+01  -8.30000000e+01\n",
      "  -8.40000000e+01  -8.50000000e+01  -8.60000000e+01  -8.70000000e+01\n",
      "  -8.80000000e+01  -8.90000000e+01  -9.00000000e+01  -9.10000000e+01\n",
      "  -9.20000000e+01  -9.30000000e+01  -9.40000000e+01  -9.50000000e+01\n",
      "  -9.60000000e+01   4.70487500e+03  -9.80000000e+01  -9.70175000e+03]\n"
     ]
    }
   ],
   "source": [
    "print new_point"
   ]
  },
  {
   "cell_type": "code",
   "execution_count": 79,
   "metadata": {
    "collapsed": true
   },
   "outputs": [],
   "source": [
    "value_2 = f(new_point)\n",
    "new_point = point - 1 * np.gradient(new_value)\n",
    "new_value = f(new_point)\n",
    "if abs(new_value - value_2).any() <= 0:\n",
    "    print value_2"
   ]
  },
  {
   "cell_type": "code",
   "execution_count": 80,
   "metadata": {
    "collapsed": false
   },
   "outputs": [
    {
     "name": "stdout",
     "output_type": "stream",
     "text": [
      "[ -9.37500000e-01  -1.78906250e+00  -2.00000000e+00  -2.17968750e+00\n",
      "  -4.00000000e+00  -5.00000000e+00  -6.00000000e+00  -7.00000000e+00\n",
      "  -8.00000000e+00  -9.00000000e+00  -1.00000000e+01  -1.10000000e+01\n",
      "  -1.20000000e+01  -1.30000000e+01  -1.40000000e+01  -1.50000000e+01\n",
      "  -1.60000000e+01  -1.70000000e+01  -1.80000000e+01  -1.90000000e+01\n",
      "  -2.00000000e+01  -2.10000000e+01  -2.20000000e+01  -2.30000000e+01\n",
      "  -2.40000000e+01  -2.50000000e+01  -2.60000000e+01  -2.70000000e+01\n",
      "  -2.80000000e+01  -2.90000000e+01  -3.00000000e+01  -3.10000000e+01\n",
      "  -3.20000000e+01  -3.30000000e+01  -3.40000000e+01  -3.50000000e+01\n",
      "  -3.60000000e+01  -3.70000000e+01  -3.80000000e+01  -3.90000000e+01\n",
      "  -4.00000000e+01  -4.10000000e+01  -4.20000000e+01  -4.30000000e+01\n",
      "  -4.40000000e+01  -4.50000000e+01  -4.60000000e+01  -4.70000000e+01\n",
      "  -4.80000000e+01  -4.90000000e+01  -5.00000000e+01  -5.10000000e+01\n",
      "  -5.20000000e+01  -5.30000000e+01  -5.40000000e+01  -5.50000000e+01\n",
      "  -5.60000000e+01  -5.70000000e+01  -5.80000000e+01  -5.90000000e+01\n",
      "  -6.00000000e+01  -6.10000000e+01  -6.20000000e+01  -6.30000000e+01\n",
      "  -6.40000000e+01  -6.50000000e+01  -6.60000000e+01  -6.70000000e+01\n",
      "  -6.80000000e+01  -6.90000000e+01  -7.00000000e+01  -7.10000000e+01\n",
      "  -7.20000000e+01  -7.30000000e+01  -7.40000000e+01  -7.50000000e+01\n",
      "  -7.60000000e+01  -7.70000000e+01  -7.80000000e+01  -7.90000000e+01\n",
      "  -8.00000000e+01  -8.10000000e+01  -8.20000000e+01  -8.30000000e+01\n",
      "  -8.40000000e+01  -8.50000000e+01  -8.60000000e+01  -8.70000000e+01\n",
      "  -8.80000000e+01  -8.90000000e+01  -9.00000000e+01  -9.10000000e+01\n",
      "  -9.20000000e+01  -9.30000000e+01  -9.40000000e+01  -9.50000000e+01\n",
      "  -1.10633159e+07  -9.70000000e+01  -3.59939541e+07  -9.41142501e+07]\n"
     ]
    }
   ],
   "source": [
    "print new_point"
   ]
  },
  {
   "cell_type": "code",
   "execution_count": 81,
   "metadata": {
    "collapsed": true
   },
   "outputs": [],
   "source": [
    "value_2 = f(new_point)\n",
    "new_point = point - 1 * np.gradient(new_value)\n",
    "new_value = f(new_point)\n",
    "if abs(new_value - value_2).any() <= 0:\n",
    "    print value_2"
   ]
  },
  {
   "cell_type": "code",
   "execution_count": 82,
   "metadata": {
    "collapsed": false
   },
   "outputs": [
    {
     "name": "stdout",
     "output_type": "stream",
     "text": [
      "[ -2.32183838e+00  -5.60546875e-01   1.22485352e+00  -3.00000000e+00\n",
      "  -6.12448120e+00  -5.00000000e+00  -6.00000000e+00  -7.00000000e+00\n",
      "  -8.00000000e+00  -9.00000000e+00  -1.00000000e+01  -1.10000000e+01\n",
      "  -1.20000000e+01  -1.30000000e+01  -1.40000000e+01  -1.50000000e+01\n",
      "  -1.60000000e+01  -1.70000000e+01  -1.80000000e+01  -1.90000000e+01\n",
      "  -2.00000000e+01  -2.10000000e+01  -2.20000000e+01  -2.30000000e+01\n",
      "  -2.40000000e+01  -2.50000000e+01  -2.60000000e+01  -2.70000000e+01\n",
      "  -2.80000000e+01  -2.90000000e+01  -3.00000000e+01  -3.10000000e+01\n",
      "  -3.20000000e+01  -3.30000000e+01  -3.40000000e+01  -3.50000000e+01\n",
      "  -3.60000000e+01  -3.70000000e+01  -3.80000000e+01  -3.90000000e+01\n",
      "  -4.00000000e+01  -4.10000000e+01  -4.20000000e+01  -4.30000000e+01\n",
      "  -4.40000000e+01  -4.50000000e+01  -4.60000000e+01  -4.70000000e+01\n",
      "  -4.80000000e+01  -4.90000000e+01  -5.00000000e+01  -5.10000000e+01\n",
      "  -5.20000000e+01  -5.30000000e+01  -5.40000000e+01  -5.50000000e+01\n",
      "  -5.60000000e+01  -5.70000000e+01  -5.80000000e+01  -5.90000000e+01\n",
      "  -6.00000000e+01  -6.10000000e+01  -6.20000000e+01  -6.30000000e+01\n",
      "  -6.40000000e+01  -6.50000000e+01  -6.60000000e+01  -6.70000000e+01\n",
      "  -6.80000000e+01  -6.90000000e+01  -7.00000000e+01  -7.10000000e+01\n",
      "  -7.20000000e+01  -7.30000000e+01  -7.40000000e+01  -7.50000000e+01\n",
      "  -7.60000000e+01  -7.70000000e+01  -7.80000000e+01  -7.90000000e+01\n",
      "  -8.00000000e+01  -8.10000000e+01  -8.20000000e+01  -8.30000000e+01\n",
      "  -8.40000000e+01  -8.50000000e+01  -8.60000000e+01  -8.70000000e+01\n",
      "  -8.80000000e+01  -8.90000000e+01  -9.00000000e+01  -9.10000000e+01\n",
      "  -9.20000000e+01  -9.30000000e+01  -9.40000000e+01  -6.11984792e+13\n",
      "  -9.60000000e+01  -5.86583888e+14  -4.42874603e+15  -7.56192733e+15]\n"
     ]
    }
   ],
   "source": [
    "print new_point"
   ]
  },
  {
   "cell_type": "code",
   "execution_count": 154,
   "metadata": {
    "collapsed": false
   },
   "outputs": [],
   "source": [
    "a = np.linspace(-10,10)"
   ]
  },
  {
   "cell_type": "code",
   "execution_count": 155,
   "metadata": {
    "collapsed": true
   },
   "outputs": [],
   "source": [
    "s = lambda x: np.exp(-x)/(1+np.exp(-x))**2"
   ]
  },
  {
   "cell_type": "code",
   "execution_count": 156,
   "metadata": {
    "collapsed": false
   },
   "outputs": [
    {
     "data": {
      "text/plain": [
       "(50,)"
      ]
     },
     "execution_count": 156,
     "metadata": {},
     "output_type": "execute_result"
    }
   ],
   "source": [
    "s(a).shape"
   ]
  },
  {
   "cell_type": "code",
   "execution_count": 157,
   "metadata": {
    "collapsed": false
   },
   "outputs": [
    {
     "data": {
      "text/plain": [
       "[<matplotlib.lines.Line2D at 0x10d539050>]"
      ]
     },
     "execution_count": 157,
     "metadata": {},
     "output_type": "execute_result"
    },
    {
     "data": {
      "image/png": "[encoded data removed]",
      "text/plain": [
       "<matplotlib.figure.Figure at 0x10d49f990>"
      ]
     },
     "metadata": {},
     "output_type": "display_data"
    }
   ],
   "source": [
    "plt.plot(a, s(a))"
   ]
  },
  {
   "cell_type": "code",
   "execution_count": 160,
   "metadata": {
    "collapsed": false
   },
   "outputs": [
    {
     "data": {
      "text/plain": [
       "(50,)"
      ]
     },
     "execution_count": 160,
     "metadata": {},
     "output_type": "execute_result"
    }
   ],
   "source": [
    "a.shape"
   ]
  },
  {
   "cell_type": "code",
   "execution_count": 161,
   "metadata": {
    "collapsed": true
   },
   "outputs": [],
   "source": [
    "s = lambda x: 1/(1 + np.exp(-x))"
   ]
  },
  {
   "cell_type": "code",
   "execution_count": 162,
   "metadata": {
    "collapsed": false
   },
   "outputs": [
    {
     "data": {
      "text/plain": [
       "[<matplotlib.lines.Line2D at 0x10d5b2950>]"
      ]
     },
     "execution_count": 162,
     "metadata": {},
     "output_type": "execute_result"
    },
    {
     "data": {
      "image/png": "[encoded data removed]",
      "text/plain": [
       "<matplotlib.figure.Figure at 0x10d2aef50>"
      ]
     },
     "metadata": {},
     "output_type": "display_data"
    }
   ],
   "source": [
    "plt.plot(a, s(a))"
   ]
  },
  {
   "cell_type": "code",
   "execution_count": null,
   "metadata": {
    "collapsed": true
   },
   "outputs": [],
   "source": []
  }
 ],
 "metadata": {
  "kernelspec": {
   "display_name": "Python 2",
   "language": "python",
   "name": "python2"
  },
  "language_info": {
   "codemirror_mode": {
    "name": "ipython",
    "version": 2
   },
   "file_extension": ".py",
   "mimetype": "text/x-python",
   "name": "python",
   "nbconvert_exporter": "python",
   "pygments_lexer": "ipython2",
   "version": "2.7.13"
  }
 },
 "nbformat": 4,
 "nbformat_minor": 2
}
